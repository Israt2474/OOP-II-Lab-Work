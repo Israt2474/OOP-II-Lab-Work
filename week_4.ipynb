{
  "nbformat": 4,
  "nbformat_minor": 0,
  "metadata": {
    "colab": {
      "name": "Copy of Lab Session 4.ipynb",
      "provenance": [],
      "include_colab_link": true
    },
    "kernelspec": {
      "name": "python3",
      "display_name": "Python 3"
    }
  },
  "cells": [
    {
      "cell_type": "markdown",
      "metadata": {
        "id": "view-in-github",
        "colab_type": "text"
      },
      "source": [
        "<a href=\"https://colab.research.google.com/github/Israt2474/OOP-II-Lab-Work/blob/master/week_4.ipynb\" target=\"_parent\"><img src=\"https://colab.research.google.com/assets/colab-badge.svg\" alt=\"Open In Colab\"/></a>"
      ]
    },
    {
      "cell_type": "code",
      "metadata": {
        "id": "dv5fgiINPQhy",
        "outputId": "d3e2f4da-1903-40bf-c369-e72992023744",
        "colab": {
          "base_uri": "https://localhost:8080/"
        }
      },
      "source": [
        "#creating list\n",
        "\n",
        "lst0=[191,15,2474,\"PC-C\",\"Israt Jahan Shoshe\",[111,222,333,444,555,]]\n",
        "lst2=[1,4,5,6,7]\n",
        "lst1=[242345,423534,4325,\"CSE\"]\n",
        "print(lst0)\n",
        "\n",
        "print(lst1)\n",
        "\n",
        "print(lst2)"
      ],
      "execution_count": 1,
      "outputs": [
        {
          "output_type": "stream",
          "text": [
            "[191, 15, 2474, 'PC-C', 'Israt Jahan Shoshe', [111, 222, 333, 444, 555]]\n",
            "[242345, 423534, 4325, 'CSE']\n",
            "[1, 4, 5, 6, 7]\n"
          ],
          "name": "stdout"
        }
      ]
    },
    {
      "cell_type": "code",
      "metadata": {
        "id": "OzhLaNmjPibF",
        "outputId": "ff0ba3ac-1ba0-4359-8e4a-94eee62e4954",
        "colab": {
          "base_uri": "https://localhost:8080/"
        }
      },
      "source": [
        "#iterating list\n",
        "\n",
        "lst0=[191,15,2474,\"PC-C\",\"Israt Jahan Shoshe\",[111,222,333,444,555,]]\n",
        "for i in lst0:\n",
        "    print(i,end=' ')\n",
        "print('')"
      ],
      "execution_count": 2,
      "outputs": [
        {
          "output_type": "stream",
          "text": [
            "191 15 2474 PC-C Israt Jahan Shoshe [111, 222, 333, 444, 555] \n"
          ],
          "name": "stdout"
        }
      ]
    },
    {
      "cell_type": "code",
      "metadata": {
        "id": "KNxT03XVQl1s",
        "outputId": "efd0c21e-c096-435c-8ede-bb6aa2f1cd4f",
        "colab": {
          "base_uri": "https://localhost:8080/"
        }
      },
      "source": [
        "#iterating list\n",
        "\n",
        "lst0=[191,15,2474,\"PC-C\",\"Israt Jahan Shoshe\",[111,222,333,444,555,]]\n",
        "print(lst0[0])\n",
        "print(lst0[2])\n",
        "print(lst0[3])\n",
        "print(lst0[4])"
      ],
      "execution_count": 4,
      "outputs": [
        {
          "output_type": "stream",
          "text": [
            "191\n",
            "2474\n",
            "PC-C\n",
            "Israt Jahan Shoshe\n"
          ],
          "name": "stdout"
        }
      ]
    },
    {
      "cell_type": "code",
      "metadata": {
        "id": "068-O8s6RPqT",
        "outputId": "a839b65c-722a-44e2-f618-a6e284f3c7a9",
        "colab": {
          "base_uri": "https://localhost:8080/",
          "height": 173
        }
      },
      "source": [
        "#List operations\n",
        "\n",
        "lst0=[1,2,3,32,2.23,43.23,\"python\",[2,32,3]]\n",
        "\n",
        "print(len(lst0))                #len( ) gives the length of the list\n",
        "\n",
        "lst0.append([12,2,12,2])        #append( ) inserts an element to the end of the list\n",
        "print(lst0)\n",
        "\n",
        "lst0.insert(2,\"pandas\")         #insert( ) insertes an element on a given index\n",
        "print(lst0)\n",
        "\n",
        "lst0.remove(3)                  #remove( ) removes first occurence of an element\n",
        "print(lst0)\n",
        "\n",
        "print(lst0.index(\"python\"))     #index( ) returns index of first occurence of an element\n",
        "\n",
        "print(lst0.count('pandas'))     #count( ) reuturns the number of occurence of an element\n",
        "\n",
        "print(lst0.reverse())           #reverse( ) makes a reverse list\n",
        "\n",
        "lst1=lst0.copy()                #copy( ) makes a copy of list\n",
        "print(lst1)\n",
        "\n",
        "lst0.clear()                    #clear( ) makes the list empty\n",
        "print(lst0)"
      ],
      "execution_count": null,
      "outputs": [
        {
          "output_type": "stream",
          "text": [
            "8\n",
            "[1, 2, 3, 32, 2.23, 43.23, 'python', [2, 32, 3], [12, 2, 12, 2]]\n",
            "[1, 2, 'pandas', 3, 32, 2.23, 43.23, 'python', [2, 32, 3], [12, 2, 12, 2]]\n",
            "[1, 2, 'pandas', 32, 2.23, 43.23, 'python', [2, 32, 3], [12, 2, 12, 2]]\n",
            "6\n",
            "1\n",
            "None\n",
            "[[12, 2, 12, 2], [2, 32, 3], 'python', 43.23, 2.23, 32, 'pandas', 2, 1]\n",
            "[]\n"
          ],
          "name": "stdout"
        }
      ]
    },
    {
      "cell_type": "code",
      "metadata": {
        "id": "Efc_Q8FCU1RZ",
        "outputId": "a273d80a-d0a6-4143-fd9a-72637b252739",
        "colab": {
          "base_uri": "https://localhost:8080/"
        }
      },
      "source": [
        "#lsit slicing\n",
        "\n",
        "lst0=[191,15,2474,\"PC-C\",\"Israt Jahan Shoshe\",[111,222,333,444,555,]]\n",
        "\n",
        "print(lst0[2:7])\n",
        "print(lst0[2:])\n",
        "print(lst0[:5])\n",
        "print(lst0[:])"
      ],
      "execution_count": 5,
      "outputs": [
        {
          "output_type": "stream",
          "text": [
            "[2474, 'PC-C', 'Israt Jahan Shoshe', [111, 222, 333, 444, 555]]\n",
            "[2474, 'PC-C', 'Israt Jahan Shoshe', [111, 222, 333, 444, 555]]\n",
            "[191, 15, 2474, 'PC-C', 'Israt Jahan Shoshe']\n",
            "[191, 15, 2474, 'PC-C', 'Israt Jahan Shoshe', [111, 222, 333, 444, 555]]\n"
          ],
          "name": "stdout"
        }
      ]
    },
    {
      "cell_type": "code",
      "metadata": {
        "id": "VcznBtQPWFD1",
        "outputId": "d6c4c113-29a8-4e8b-ba76-db4abdd21f88",
        "colab": {
          "base_uri": "https://localhost:8080/"
        }
      },
      "source": [
        "#list sorting\n",
        "\n",
        "lst0=[191,15,2474,\"PC-C\",\"Israt Jahan Shoshe\",[111,222,333,444,555,]]\n",
        "\n",
        "lst3=sorted(lst2)\n",
        "print(lst3)\n",
        "print(lst2)\n",
        "lst2.sort()\n",
        "print(lst2)"
      ],
      "execution_count": 6,
      "outputs": [
        {
          "output_type": "stream",
          "text": [
            "[1, 4, 5, 6, 7]\n",
            "[1, 4, 5, 6, 7]\n",
            "[1, 4, 5, 6, 7]\n"
          ],
          "name": "stdout"
        }
      ]
    },
    {
      "cell_type": "code",
      "metadata": {
        "id": "CsnsqMPsWn6m",
        "outputId": "2f8779eb-9c13-4f19-b072-1dcce1cde521",
        "colab": {
          "base_uri": "https://localhost:8080/"
        }
      },
      "source": [
        "#creating tuple\n",
        "\n",
        "tp0=(191,15,2474,\"PC-C\",\"Israt Jahan Shoshe\",[111,222,333,444,555,])\n",
        "print(tp0)\n",
        "tp1=()\n",
        "print(tp1)\n",
        "tp2=tuple()\n",
        "print(tp2)"
      ],
      "execution_count": 7,
      "outputs": [
        {
          "output_type": "stream",
          "text": [
            "(191, 15, 2474, 'PC-C', 'Israt Jahan Shoshe', [111, 222, 333, 444, 555])\n",
            "()\n",
            "()\n"
          ],
          "name": "stdout"
        }
      ]
    },
    {
      "cell_type": "code",
      "metadata": {
        "id": "zqLQKHBrXNxY",
        "outputId": "ad99c59b-7c75-4385-c1d9-54a22f7b66e9",
        "colab": {
          "base_uri": "https://localhost:8080/"
        }
      },
      "source": [
        "#iterating tuple\n",
        "\n",
        "tp0=(191,15,2474,\"PC-C\",\"Israt Jahan Shoshe\",[111,222,333,444,555])\n",
        "for i in tp0:\n",
        "    print(i,end=' ')\n",
        "print('')"
      ],
      "execution_count": 9,
      "outputs": [
        {
          "output_type": "stream",
          "text": [
            "191 15 2474 PC-C Israt Jahan Shoshe [111, 222, 333, 444, 555] \n"
          ],
          "name": "stdout"
        }
      ]
    },
    {
      "cell_type": "code",
      "metadata": {
        "id": "KZUEXf9KXyFq",
        "outputId": "9c631548-f886-4d08-a89a-58ec7abc8d48",
        "colab": {
          "base_uri": "https://localhost:8080/"
        }
      },
      "source": [
        "#iterating tuple\n",
        "\n",
        "tp0=(191,15,2474,\"PC-C\",\"Israt Jahan Shoshe\",[111,222,333,444,555])\n",
        "print(tp0[0])\n",
        "print(tp0[1])\n",
        "print(tp0[2])\n",
        "print(tp0[3])\n"
      ],
      "execution_count": 11,
      "outputs": [
        {
          "output_type": "stream",
          "text": [
            "191\n",
            "15\n",
            "2474\n",
            "PC-C\n"
          ],
          "name": "stdout"
        }
      ]
    },
    {
      "cell_type": "code",
      "metadata": {
        "id": "J0R9_6tYYU6j",
        "outputId": "64951e7e-27af-45c9-be44-f8c39e082fe7",
        "colab": {
          "base_uri": "https://localhost:8080/"
        }
      },
      "source": [
        "#inserting into tuple\n",
        "\n",
        "tp0=(191,15,2474,\"PC-C\",\"Israt Jahan Shoshe\",[111,222,333,444,555])\n",
        "tp0+=(\"pandas\",232,3,232,3)\n",
        "print(tp0)"
      ],
      "execution_count": 13,
      "outputs": [
        {
          "output_type": "stream",
          "text": [
            "(191, 15, 2474, 'PC-C', 'Israt Jahan Shoshe', [111, 222, 333, 444, 555], 'pandas', 232, 3, 232, 3)\n"
          ],
          "name": "stdout"
        }
      ]
    },
    {
      "cell_type": "code",
      "metadata": {
        "id": "ZWp59vSEZfJJ",
        "outputId": "73818a9c-31c1-4567-ba38-0fbc22057785",
        "colab": {
          "base_uri": "https://localhost:8080/"
        }
      },
      "source": [
        "#unpacking sequences\n",
        "\n",
        "lst=[191,15,2474,\"PC-C\"]\n",
        "a,b,c,d=lst\n",
        "print(a)\n",
        "print(b)\n",
        "print(c)\n",
        "print(d)"
      ],
      "execution_count": 14,
      "outputs": [
        {
          "output_type": "stream",
          "text": [
            "191\n",
            "15\n",
            "2474\n",
            "PC-C\n"
          ],
          "name": "stdout"
        }
      ]
    },
    {
      "cell_type": "code",
      "metadata": {
        "id": "o-2Xal8TZ1mo",
        "outputId": "44e79316-34b7-43b1-91db-f2bb5005179b",
        "colab": {
          "base_uri": "https://localhost:8080/"
        }
      },
      "source": [
        "#unpacking sequences\n",
        "\n",
        "tp=(191,15,2474,\"PC-C\")\n",
        "a,b,c,d=tp\n",
        "print(a)\n",
        "print(b)\n",
        "print(c)\n",
        "print(d)"
      ],
      "execution_count": 15,
      "outputs": [
        {
          "output_type": "stream",
          "text": [
            "191\n",
            "15\n",
            "2474\n",
            "PC-C\n"
          ],
          "name": "stdout"
        }
      ]
    }
  ]
}